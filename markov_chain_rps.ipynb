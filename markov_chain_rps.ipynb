{
 "cells": [
  {
   "cell_type": "markdown",
   "metadata": {},
   "source": [
    "## A markov chain based rock-paper-scissors game playing agent implementation."
   ]
  },
  {
   "cell_type": "code",
   "execution_count": 5,
   "metadata": {},
   "outputs": [],
   "source": [
    "import numpy as np\n",
    "import pandas as pd\n",
    "from collections import Counter"
   ]
  },
  {
   "cell_type": "code",
   "execution_count": 6,
   "metadata": {},
   "outputs": [],
   "source": [
    "def compare(action_A, action_B):\n",
    "    \"\"\" Compares actions performed by the two players and determines\n",
    "    the winner.\n",
    "    \n",
    "    :param action_A: Action performed by player 'A'.\n",
    "    :param action_B: Action performed by player 'B'.\n",
    "    :returns String: 'A' if player 'A' won,'B' if player 'B' won,'draw' otherwise.\n",
    "    \"\"\"\n",
    "    beats = {'R': ['S'], 'P': ['R'], 'S': ['P']}\n",
    "    if action_B in beats[action_A]:\n",
    "        return 'A'\n",
    "    if action_A in beats[action_B]:\n",
    "        return 'B'\n",
    "    return 'draw'\n",
    "\n",
    "\n",
    "def simulate(states, states_to_indices, transition_prob_A, transition_prob_B,\n",
    "         init_state_A, init_state_B, learn=False, n_iter=50, verbose=True):\n",
    "    \"\"\" Simulates ''n_iter'' rock-paper-scissors games between two competing players. Learning is \n",
    "    performed by estimating the transition matrix of player 'B' based on its previous moves, therefore\n",
    "    predicting the next action of this player and choosing an action of player 'A' that would win the\n",
    "    round if the prediction were correct.\n",
    "    \n",
    "    :param states: A list of possible MDP states.\n",
    "    :param states_to_indices: A dictionary mapping state names (from ''states'') to \n",
    "    indices in the transition matrices.\n",
    "    :param transition_prob_A: A matrix of transition probabilities for player 'A'.\n",
    "    :param transition_prob_B: A matrix of transition probabilities for player 'B'.\n",
    "    :param init_state_A: The initial state of player 'A'.\n",
    "    :param init_state_B: The initial state of player 'B'.\n",
    "    :param learn: If True will perform transition matrix updates for player 'A' (default=False).\n",
    "    :param n_iter: Number of games to simulate (default=50).\n",
    "    :param verbose: If True prints the results of each game to stdout. \n",
    "    :returns: If ''learn'' is True, returns a tuple of ('outcomes', 'counts'), where 'outcomes' is\n",
    "    a list of strings indicating the winner of each round, and 'counts' is a matrix of observed B's \n",
    "    transitions. Otherwise, only 'outcomes' is returned.\n",
    "    \"\"\"\n",
    "    outcomes = []\n",
    "    state_A = init_state_A\n",
    "    state_B = init_state_B\n",
    "    \n",
    "    if learn:\n",
    "        # Initialize the counts that are meant to approximate \n",
    "        # player B's transition matrix to zeros\n",
    "        counts_B = np.zeros((3, 3))\n",
    "        # Dictionary used to determine the action of 'A' that \n",
    "        # counters the predicted action of 'B'\n",
    "        beats = {'R': ['S'], 'P': ['R'], 'S': ['P']}\n",
    "        # Store the index of the previous B's action on each round\n",
    "        prev_state_B_index = None\n",
    "        \n",
    "    for game in range(1, n_iter+1):\n",
    "        winner = compare(state_A, state_B)\n",
    "        outcomes.append(winner)\n",
    "        \n",
    "        if verbose:\n",
    "            print(f'Game: {game} \\tAction A: {state_A}\\tAction B: {state_B}\\tWinner: {winner}')\n",
    "        \n",
    "        # Map states to indices into the transition matrices\n",
    "        state_A_index = states_to_indices[state_A]\n",
    "        state_B_index = states_to_indices[state_B]\n",
    "        \n",
    "        if learn and prev_state_B_index is None:\n",
    "            # Actions in the first round are sampled randomly \n",
    "            # for both players\n",
    "            prev_state_B_index = state_B_index\n",
    "            state_A = np.random.choice(states)[0]\n",
    "            state_B = np.random.choice(states, p=transition_prob_B[state_B_index])\n",
    "        if learn and prev_state_B_index is not None:\n",
    "            # Increment the count of the observed transition of player B from state \n",
    "            # in the previous round to state in this round\n",
    "            counts_B[prev_state_B_index][state_B_index] += 1\n",
    "            # Normalize the counts for transitions from the previous state of player B \n",
    "            # to a probability distribution over the next possible state\n",
    "            states_distribution_B = counts_B[prev_state_B_index] / counts_B[prev_state_B_index].sum()\n",
    "            # Sample a state from this distribution to predict B's next move\n",
    "            predicted_state_B = np.random.choice(states, p=states_distribution_B)\n",
    "            prev_state_B_index = state_B_index\n",
    "            \n",
    "            # Pick a new A's state that counters the predicted B's state\n",
    "            state_A = beats[predicted_state_B][0]\n",
    "            # Player 'B' still moves according to the random transition matrix\n",
    "            state_B = np.random.choice(states, p=transition_prob_B[state_B_index])           \n",
    "        else:\n",
    "            state_A = np.random.choice(states, p=transition_prob_A[state_A_index])\n",
    "            state_B = np.random.choice(states, p=transition_prob_B[state_B_index])\n",
    "    if learn:\n",
    "        return outcomes, counts_B\n",
    "    else:\n",
    "        return outcomes"
   ]
  },
  {
   "cell_type": "markdown",
   "metadata": {},
   "source": [
    "## Simulation without learning"
   ]
  },
  {
   "cell_type": "code",
   "execution_count": 7,
   "metadata": {},
   "outputs": [
    {
     "name": "stdout",
     "output_type": "stream",
     "text": [
      "\n",
      "Player A:\n",
      "\tWon: 30.0%\n",
      "\tDraw: 30.0%\n",
      "\tLost: 30.0%\n",
      "\n",
      "Player A transition matrix:\n",
      "          R         P         S\n",
      "R  0.405356  0.509672  0.084972\n",
      "P  0.305782  0.336625  0.357593\n",
      "S  0.352444  0.322806  0.324749\n",
      "\n",
      "Player B transition matrix:\n",
      "          R         P         S\n",
      "R  0.247000  0.361835  0.391165\n",
      "P  0.247401  0.309909  0.442690\n",
      "S  0.389238  0.120834  0.489928\n"
     ]
    }
   ],
   "source": [
    "states_to_indices = {'R': 0, 'P': 1, 'S': 2}\n",
    "states = list(states_to_indices.keys())\n",
    "\n",
    "# Generate random transition matrices for both players\n",
    "uniform_samples_A = np.random.uniform(size=(3, 3))\n",
    "transition_prob_A = uniform_samples_A / np.sum(uniform_samples_A, axis=1, keepdims=True)\n",
    "\n",
    "uniform_samples_B = np.random.uniform(size=(3, 3))\n",
    "transition_prob_B = uniform_samples_B / np.sum(uniform_samples_B, axis=1, keepdims=True)\n",
    "\n",
    "# Sample a random initial state for both players\n",
    "init_state_A = np.random.choice(states)[0]\n",
    "init_state_B = np.random.choice(states)[0]\n",
    "\n",
    "outcomes = simulate(states, states_to_indices, transition_prob_A, transition_prob_B, init_state_A, init_state_B, learn=False, n_iter=500, verbose=False)\n",
    "\n",
    "n_games = len(outcomes)\n",
    "outcomes = Counter(outcomes)\n",
    "A_won = float(outcomes['A'] / n_games)\n",
    "A_lost = float(outcomes['B'] / n_games)\n",
    "draw = float(outcomes['draw'] / n_games)\n",
    "print(f'\\nPlayer A:\\n\\tWon: {round(A_won, 1) * 100}%\\n\\tDraw: {round(draw, 1) * 100}%\\n\\tLost: {round(A_lost, 1) * 100}%')\n",
    "\n",
    "print(f'\\nPlayer A transition matrix:\\n{pd.DataFrame(transition_prob_A, index=states, columns=states)}')\n",
    "print(f'\\nPlayer B transition matrix:\\n{pd.DataFrame(transition_prob_B, index=states, columns=states)}')"
   ]
  },
  {
   "cell_type": "markdown",
   "metadata": {},
   "source": [
    "## Simulation with learning"
   ]
  },
  {
   "cell_type": "code",
   "execution_count": 10,
   "metadata": {},
   "outputs": [
    {
     "name": "stdout",
     "output_type": "stream",
     "text": [
      "\n",
      "Player A:\n",
      "\tWon: 30.0%\n",
      "\tDraw: 50.0%\n",
      "\tLost: 20.0%\n",
      "\n",
      "Predicted player B transition matrix (determines the moves of player A):\n",
      "          R         P         S\n",
      "R  0.127389  0.063694  0.808917\n",
      "P  0.687861  0.075145  0.236994\n",
      "S  0.111765  0.882353  0.005882\n",
      "\n",
      "True player B transition matrix:\n",
      "     R     P     S\n",
      "R  0.1  0.10  0.80\n",
      "P  0.7  0.05  0.25\n",
      "S  0.1  0.90  0.00\n"
     ]
    }
   ],
   "source": [
    "# Hardcoded player B's transition matrix, so as to\n",
    "# create some pattern which player A may learn.\n",
    "transition_prob_B = np.array([[0.1, 0.1, 0.8],\n",
    "                              [0.7, 0.05, 0.25],\n",
    "                              [0.1, 0.9, 0.0]])\n",
    "\n",
    "outcomes, counts = simulate(states, states_to_indices, None, transition_prob_B, init_state_A, init_state_B, learn=True, n_iter=500, verbose=False)\n",
    "predicted_B_transition_prob = counts / counts.sum(axis=1, keepdims=True)\n",
    "\n",
    "n_games = len(outcomes)\n",
    "outcomes = Counter(outcomes)\n",
    "A_won = float(outcomes['A'] / n_games)\n",
    "A_lost = float(outcomes['B'] / n_games)\n",
    "draw = float(outcomes['draw'] / n_games)\n",
    "print(f'\\nPlayer A:\\n\\tWon: {round(A_won, 1) * 100}%\\n\\tDraw: {round(draw, 1) * 100}%\\n\\tLost: {round(A_lost, 1) * 100}%')\n",
    "\n",
    "print(f'\\nPredicted player B transition matrix (determines the moves of player A):\\n{pd.DataFrame(predicted_B_transition_prob, index=states, columns=states)}')\n",
    "print(f'\\nTrue player B transition matrix:\\n{pd.DataFrame(transition_prob_B, index=states, columns=states)}')"
   ]
  }
 ],
 "metadata": {
  "kernelspec": {
   "display_name": "Python 3",
   "language": "python",
   "name": "python3"
  },
  "language_info": {
   "codemirror_mode": {
    "name": "ipython",
    "version": 3
   },
   "file_extension": ".py",
   "mimetype": "text/x-python",
   "name": "python",
   "nbconvert_exporter": "python",
   "pygments_lexer": "ipython3",
   "version": "3.7.4"
  }
 },
 "nbformat": 4,
 "nbformat_minor": 4
}
