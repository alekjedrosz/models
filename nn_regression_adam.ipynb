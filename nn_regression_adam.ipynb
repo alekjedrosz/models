{
 "cells": [
  {
   "cell_type": "markdown",
   "metadata": {},
   "source": [
    "## A neural network for regression using the adam optimization algorithm."
   ]
  },
  {
   "cell_type": "code",
   "execution_count": 18,
   "metadata": {},
   "outputs": [],
   "source": [
    "import numpy as np\n",
    "import pandas as pd\n",
    "import matplotlib.pyplot as plt\n",
    "import seaborn as sns\n",
    "from sklearn.preprocessing import StandardScaler\n",
    "from sklearn.model_selection import train_test_split\n",
    "\n",
    "import os\n",
    "from abc import ABC, abstractmethod"
   ]
  },
  {
   "cell_type": "code",
   "execution_count": 2,
   "metadata": {},
   "outputs": [],
   "source": [
    "np.random.seed(4)"
   ]
  },
  {
   "cell_type": "code",
   "execution_count": 3,
   "metadata": {},
   "outputs": [],
   "source": [
    "DATA_HOME = './data'"
   ]
  },
  {
   "cell_type": "code",
   "execution_count": 4,
   "metadata": {},
   "outputs": [],
   "source": [
    "class ActivationFunction(ABC):\n",
    "    \"\"\" An abstract class serving as a template for activation functions used \n",
    "    in :class:'NeuralNetwork'.\n",
    "    \"\"\"\n",
    "    \n",
    "    @abstractmethod\n",
    "    def __call__(self, X):\n",
    "        pass\n",
    "    \n",
    "    @abstractmethod\n",
    "    def derivative(self, X):\n",
    "        pass\n",
    "    \n",
    "    \n",
    "class ReluActivation(ActivationFunction):\n",
    "    \"\"\" A ReLU activation function.\n",
    "    \"\"\"\n",
    "    \n",
    "    def __call__(self, X):\n",
    "        X = X.copy()\n",
    "        X[X < 0] = 0\n",
    "        return X\n",
    "    \n",
    "    def derivative(self, X):\n",
    "        X = X.copy()\n",
    "        X[X >= 0] = 1  # Approximating the derivative at 0\n",
    "        X[X < 0] = 0\n",
    "        return X"
   ]
  },
  {
   "cell_type": "code",
   "execution_count": 5,
   "metadata": {},
   "outputs": [],
   "source": [
    "class NeuralNetwork:\n",
    "    \"\"\" A neural network model for regression. Uses quadratic cost to fit the model's\n",
    "    parameters. Enforces a linear activation function in the output layer (i.e. f(x)=x).\n",
    "    Weights are initialized randomly, biases are initialized to zeros.\n",
    "\n",
    "    :param layers: An array of integers corresponding to the number of units in each \n",
    "    of the layers, including and input and output layer (i.e. input and output dimensionality).\n",
    "    :param activation_func: A :class:'ActivationFunction' object to use as the activation \n",
    "    function in all layers except for the output and input ones.\n",
    "    \"\"\"\n",
    "\n",
    "    def __init__(self, layers, activation_func):\n",
    "        self.layers = layers\n",
    "        self.activation_func = activation_func\n",
    "        self._initialize_weights()\n",
    "\n",
    "    def _initialize_weights(self):\n",
    "        \"\"\" Initializes the model's parameters. Weight matrices are initialized randomly \n",
    "        from a N(0, 0.01) distribution. Biases are initialized to zeros.\n",
    "        \"\"\"\n",
    "        self._weights = []\n",
    "        self._biases = []\n",
    "        for l_previous, l_next in zip(self.layers[:-1], self.layers[1:]):\n",
    "            self._weights.append(np.random.normal(loc=0.0, scale=0.1, size=(l_next, l_previous)))\n",
    "            self._biases.append(np.zeros(shape=(l_next, 1)))\n",
    "\n",
    "    def fit(self, X, Y, l_rate=0.01, momentum_param=0.9, rmsprop_param=0.999, rmsprop_epsilon=10e-8,\n",
    "            n_iter=1000, return_costs=False):\n",
    "        \"\"\" Initializes the parameters of the model randomly and sets them using \n",
    "        batch gradient descent with momentum and rmsprop (i.e. Adam optimization algorithm).\n",
    "\n",
    "        :param X: A numpy.ndarray of observations of shape (n_observations, n_features).\n",
    "        :param Y: A numpy.ndarray of outcomes corresponding to the observations in ''X'',\n",
    "        of shape (n_observations, n_outcomes).\n",
    "        :param momentum_param: Hyperparameter controlling the momentum moving average's sensitivity \n",
    "        to previous observations.\n",
    "        :param rmsprop_param: Hyperparameter controlling the rmsprop moving average's sensitivity \n",
    "        to previous observations.\n",
    "        :param epsilon: The number added to the denominator for numerical stability\n",
    "        (should be very small).\n",
    "        :param l_rate: Learning rate to use for gradient descent.\n",
    "        :param n_iter: Number of training epochs to run GD for.\n",
    "        :param return_costs: If ''True'' returns an array of costs on each epoch.\n",
    "        \"\"\"\n",
    "        self._initialize_weights()\n",
    "        X = X.copy()\n",
    "        X = X.T\n",
    "        Y = Y.copy()\n",
    "        Y = Y.T\n",
    "        return self.GD(X, Y, l_rate, momentum_param, rmsprop_param, rmsprop_epsilon, n_iter, return_costs)\n",
    "\n",
    "    def predict(self, X):\n",
    "        \"\"\" Computes predictions for a given input. Assumes the model is \n",
    "        already trained.\n",
    "\n",
    "        :param X: A numpy.ndarray of observations of shape (n_observations, n_features).\n",
    "        :returns: A vector of shape (n_observations, n_outcomes), indicating the predicted outcome\n",
    "        for each observation.\n",
    "        \"\"\"\n",
    "        X = X.copy()\n",
    "        X = X.T\n",
    "        Y_hat = self.forward(X)\n",
    "        return Y_hat.T\n",
    "\n",
    "    def forward(self, X, return_intermediate=False):\n",
    "        \"\"\" Computes the output of the model.\n",
    "\n",
    "        :param X: A numpy.ndarray of observations of shape (n_features, n_observations).\n",
    "        :param return_intermediate: If True returns activations and weighted sums from all network layers, \n",
    "        as a tuple of (activations, weighted_sums). Otherwise returns only the activations from the output\n",
    "        layer.\n",
    "        \"\"\"\n",
    "        activations = []\n",
    "        weighted_sums = []\n",
    "        A_previous = X.copy()\n",
    "        for W, b in zip(self._weights[:-1], self._biases[:-1]):\n",
    "            Z_next = W @ A_previous + b\n",
    "            A_next = self.activation_func(Z_next)\n",
    "            weighted_sums.append(Z_next)\n",
    "            activations.append(A_next)\n",
    "            A_previous = A_next\n",
    "\n",
    "        # Enforcing no activation function in the last layer\n",
    "        Z_last = self._weights[-1] @ A_previous + self._biases[-1]\n",
    "        A_last = Z_last\n",
    "        weighted_sums.append(Z_last)\n",
    "        activations.append(A_last)\n",
    "        if return_intermediate:\n",
    "            return activations, weighted_sums\n",
    "        else:\n",
    "            return A_last\n",
    "\n",
    "    def backward(self, X, Y):\n",
    "        \"\"\" Computes the derivatives of the cost function (denoted J) wrt. the model's parameters.\n",
    "\n",
    "        :param X: A numpy.ndarray of observations of shape (n_features, n_observations).\n",
    "        :param Y: A numpy.ndarray of outcomes corresponding to the observations in ''X'',\n",
    "        of shape (n_observations, n_outcomes).\n",
    "        :returns gradients_W: The gradients of the cost function (J) wrt. to the model's parameters, \n",
    "        corresponding to each of the weight matrices in ''self._weights''.\n",
    "        :returns gradients_b: The gradients of the cost function (J) wrt. to the model's parameters,\n",
    "        corresponding to each of the bias vectors in ''self._biases''.\n",
    "        \"\"\"\n",
    "        m = X.shape[1]\n",
    "        gradients_W, gradients_b = [], []\n",
    "        activations, weighted_sums = self.forward(X, return_intermediate=True)\n",
    "\n",
    "        A = activations[-1]\n",
    "        dJ_dZ = A - Y\n",
    "        for A, Z, W in zip(reversed(activations[:-1]), reversed(weighted_sums[:-1]), self._weights[::-1]):\n",
    "            dJ_dW = (2. / m) * (dJ_dZ @ A.T)\n",
    "            dJ_db = (2. / m) * np.sum(dJ_dZ, axis=1, keepdims=True) \n",
    "            gradients_W.append(dJ_dW)\n",
    "            gradients_b.append(dJ_db)\n",
    "            dJ_dZ = (W.T @ dJ_dZ) * self.activation_func.derivative(Z)\n",
    "\n",
    "        # Derivatives wrt. to the first weight matrix / bias vector are computed outside of the loop \n",
    "        # to avoid appending ''X'' to the ''activations'' list.\n",
    "        dJ_dW1 = (2. / m) * (dJ_dZ @ X.T)\n",
    "        dJ_db1 = (2. / m) * np.sum(dJ_dZ, axis=1, keepdims=True)\n",
    "        gradients_W.append(dJ_dW1)\n",
    "        gradients_b.append(dJ_db1)\n",
    "\n",
    "        return gradients_W[::-1], gradients_b[::-1]\n",
    "\n",
    "    def GD(self, X, Y, l_rate=0.1, momentum_param=0.9, rmsprop_param=0.999, epsilon=10e-8,\n",
    "           n_iter=1000, return_costs=False):\n",
    "        \"\"\" Performs gradient descent with momentum and rmsprop (i.e. uses the Adam optimization algorithm).\n",
    "\n",
    "       :param X: A numpy.ndarray of observations of shape (n_features, n_observations).\n",
    "       :param Y: A numpy.ndarray of outcomes corresponding to the observations in ''X'',\n",
    "       of shape (n_outcomes, n_observations).\n",
    "       :param l_rate: Learning rate to use for gradient descent.\n",
    "       :param momentum_param: Hyperparameter controlling the momentum moving average's sensitivity \n",
    "       to previous observations.\n",
    "       :param rmsprop_param: Hyperparameter controlling the rmsprop moving average's sensitivity \n",
    "       to previous observations.\n",
    "       :param epsilon: The number added to the denominator for numerical stability (should be very small).\n",
    "       :param n_iter: Number of training epochs to run GD for.\n",
    "       :param return_costs: If ''True'' returns an array of costs on each epoch.\n",
    "       \"\"\"\n",
    "        # Running averages for Adam\n",
    "        momentum_avgs_W = [np.zeros(W.shape) for W in self._weights]\n",
    "        momentum_avgs_b = [np.zeros(b.shape) for b in self._biases]\n",
    "        rmsprop_avgs_W = [np.zeros(W.shape) for W in self._weights]\n",
    "        rmsprop_avgs_b = [np.zeros(b.shape) for b in self._biases]\n",
    "        \n",
    "        if return_costs:\n",
    "            costs = []\n",
    "        for epoch in range(1, n_iter+1):\n",
    "            gradients_W, gradients_b = self.backward(X, Y)\n",
    "            for i, (dJ_dW, dJ_db) in enumerate(zip(gradients_W, gradients_b)):\n",
    "                # Adam updates\n",
    "                momentum_avgs_W[i] = momentum_param * momentum_avgs_W[i] + (1 - momentum_param) * dJ_dW\n",
    "                momentum_avgs_b[i] = momentum_param * momentum_avgs_b[i] + (1 - momentum_param) * dJ_db\n",
    "                rmsprop_avgs_W[i] = rmsprop_param * rmsprop_avgs_W[i] + (1 - rmsprop_param) * (dJ_dW ** 2)\n",
    "                rmsprop_avgs_b[i] = rmsprop_param * rmsprop_avgs_b[i] + (1 - rmsprop_param) * (dJ_db ** 2)\n",
    "                # Bias correction\n",
    "                momentum_W_corrected = momentum_avgs_W[i] / (1 - (momentum_param ** epoch))\n",
    "                momentum_b_corrected = momentum_avgs_b[i] / (1 - (momentum_param ** epoch))\n",
    "                rmsprop_W_corrected = rmsprop_avgs_W[i] / (1 - (rmsprop_param ** epoch))\n",
    "                rmsprop_b_corrected = rmsprop_avgs_b[i] / (1 - (rmsprop_param ** epoch))\n",
    "                \n",
    "                self._weights[i] = self._weights[i] - l_rate * (momentum_W_corrected / (rmsprop_W_corrected ** 0.5 + epsilon))\n",
    "                self._biases[i] = self._biases[i] - l_rate * (momentum_b_corrected / (rmsprop_b_corrected ** 0.5 + epsilon))\n",
    "            if return_costs:\n",
    "                Y_hat = self.forward(X)\n",
    "                costs.append(NeuralNetwork.quadratic_cost(Y, Y_hat))\n",
    "        if return_costs:\n",
    "            return costs\n",
    "\n",
    "    @staticmethod\n",
    "    def quadratic_cost(Y, Y_hat):\n",
    "        n_observations = Y.shape[1]\n",
    "        return (1. / n_observations) * np.sum((Y_hat - Y) ** 2)\n",
    "\n",
    "    @staticmethod\n",
    "    def plot_costs(costs):\n",
    "        plt.xlabel('Epoch')\n",
    "        plt.ylabel('Cost')\n",
    "        plt.plot(costs)\n",
    "        plt.show()"
   ]
  },
  {
   "cell_type": "code",
   "execution_count": 6,
   "metadata": {},
   "outputs": [],
   "source": [
    "data = pd.read_csv(os.path.join(DATA_HOME, 'linreg_data.txt'), header=None, delimiter='\\s+', names=['x', 'y'], dtype={0: np.float64, 1: np.float64})"
   ]
  },
  {
   "cell_type": "code",
   "execution_count": 7,
   "metadata": {},
   "outputs": [],
   "source": [
    "X_train, X_test, y_train, y_test = train_test_split(data['x'].to_numpy(), data['y'].to_numpy(), test_size=0.3, shuffle=True)"
   ]
  },
  {
   "cell_type": "code",
   "execution_count": 8,
   "metadata": {},
   "outputs": [],
   "source": [
    "X_train, X_test = X_train.reshape(-1, 1), X_test.reshape(-1, 1)\n",
    "y_train, y_test = y_train.reshape(-1, 1), y_test.reshape(-1, 1)"
   ]
  },
  {
   "cell_type": "code",
   "execution_count": 9,
   "metadata": {},
   "outputs": [],
   "source": [
    "scaler = StandardScaler()"
   ]
  },
  {
   "cell_type": "code",
   "execution_count": 10,
   "metadata": {},
   "outputs": [],
   "source": [
    "X_train = scaler.fit_transform(X_train)\n",
    "X_test = scaler.transform(X_test)"
   ]
  },
  {
   "cell_type": "code",
   "execution_count": 11,
   "metadata": {},
   "outputs": [
    {
     "data": {
      "image/png": "[encoded data removed]",
      "text/plain": [
       "<Figure size 432x288 with 1 Axes>"
      ]
     },
     "metadata": {
      "needs_background": "light"
     },
     "output_type": "display_data"
    }
   ],
   "source": [
    "plt.scatter(X_train, y_train, color='tab:blue', label='train')\n",
    "plt.scatter(X_test, y_test, color='tab:orange', label='test')\n",
    "plt.legend()\n",
    "plt.show()"
   ]
  },
  {
   "cell_type": "code",
   "execution_count": 12,
   "metadata": {},
   "outputs": [],
   "source": [
    "model = NeuralNetwork([1, 20, 20, 1], activation_func=ReluActivation())"
   ]
  },
  {
   "cell_type": "code",
   "execution_count": 13,
   "metadata": {},
   "outputs": [],
   "source": [
    "costs = model.fit(X_train, y_train, l_rate=0.003, n_iter=3000, return_costs=True)"
   ]
  },
  {
   "cell_type": "code",
   "execution_count": 14,
   "metadata": {},
   "outputs": [
    {
     "data": {
      "image/png": "[encoded data removed]",
      "text/plain": [
       "<Figure size 432x288 with 1 Axes>"
      ]
     },
     "metadata": {
      "needs_background": "light"
     },
     "output_type": "display_data"
    }
   ],
   "source": [
    "NeuralNetwork.plot_costs(costs)"
   ]
  },
  {
   "cell_type": "code",
   "execution_count": 15,
   "metadata": {},
   "outputs": [],
   "source": [
    "y_hat = model.predict(X_test)"
   ]
  },
  {
   "cell_type": "code",
   "execution_count": 16,
   "metadata": {},
   "outputs": [
    {
     "data": {
      "image/png": "[encoded data removed]",
      "text/plain": [
       "<Figure size 432x288 with 1 Axes>"
      ]
     },
     "metadata": {
      "needs_background": "light"
     },
     "output_type": "display_data"
    }
   ],
   "source": [
    "results = np.concatenate((X_test, y_test, y_hat), axis=1)\n",
    "results = results[results[:, 0].argsort()]\n",
    "plt.scatter(results[:, 0], results[:, 1], color='tab:blue', label='Actual')\n",
    "plt.scatter(results[:, 0], results[:, 2], color='tab:red', label='Predicted')\n",
    "plt.legend()\n",
    "plt.show()"
   ]
  },
  {
   "cell_type": "code",
   "execution_count": 17,
   "metadata": {},
   "outputs": [
    {
     "name": "stdout",
     "output_type": "stream",
     "text": [
      "Test set RMSE: 0.6208963879343948\n"
     ]
    }
   ],
   "source": [
    "print(f'Test set RMSE: {NeuralNetwork.quadratic_cost(y_test.T, y_hat.T) ** 0.5}')"
   ]
  }
 ],
 "metadata": {
  "kernelspec": {
   "display_name": "Python 3",
   "language": "python",
   "name": "python3"
  },
  "language_info": {
   "codemirror_mode": {
    "name": "ipython",
    "version": 3
   },
   "file_extension": ".py",
   "mimetype": "text/x-python",
   "name": "python",
   "nbconvert_exporter": "python",
   "pygments_lexer": "ipython3",
   "version": "3.7.4"
  }
 },
 "nbformat": 4,
 "nbformat_minor": 4
}
